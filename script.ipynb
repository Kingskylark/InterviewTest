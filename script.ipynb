{
 "cells": [
  {
   "cell_type": "code",
   "execution_count": 5,
   "metadata": {},
   "outputs": [
    {
     "name": "stdout",
     "output_type": "stream",
     "text": [
      "CSV file 'ibom_air_recruitment_questions.csv' has been created successfully.\n"
     ]
    }
   ],
   "source": [
    "import csv\n",
    "\n",
    "# Define the questions, options, and correct answers\n",
    "data = [\n",
    "    [\"Choose the word that best completes the sentence: 'Customer service is essential to building a good ______ with clients.'\", \"relationship\", \"report\", \"repetition\", \"reference\", \"A\"],\n",
    "    [\"If a plane flies 800 miles east and then 600 miles north, what is the total distance the plane flew, if it took a direct route back to its starting point?\", \"1,400 miles\", \"1,000 miles\", \"1,300 miles\", \"500 miles\", \"B\"],\n",
    "    [\"What year did Ibom Air commence commercial operations?\", \"2019\", \"2020\", \"2018\", \"2021\", \"A\"],\n",
    "    [\"The customer was so ______ by the delay that she decided to write a complaint.\", \"content\", \"aggravated\", \"amused\", \"pleased\", \"B\"],\n",
    "    [\"Which of the following sentences is grammatically correct?\", \"The customer has been waiting since an hour.\", \"The customer have been waiting since an hour.\", \"The customer has been waiting for an hour.\", \"The customer have waited for an hour.\", \"C\"],\n",
    "    [\"What is the capital city of Akwa Ibom State, where Ibom Air is based?\", \"Uyo\", \"Calabar\", \"Aba\", \"Port Harcourt\", \"A\"],\n",
    "    [\"Choose the synonym for the word 'efficient':\", \"slow\", \"effective\", \"careless\", \"indifferent\", \"B\"],\n",
    "    [\"Imagine you are facing north and turn 90 degrees to the right, then 180 degrees to the left. What direction are you facing now?\", \"East\", \"West\", \"South\", \"North\", \"B\"],\n",
    "    [\"Who is the current Minister of Aviation in Nigeria (as of 2024)?\", \"Hadi Sirika\", \"Rotimi Amaechi\", \"Festus Keyamo\", \"Abubakar Malami\", \"C\"],\n",
    "    [\"Select the word that is opposite in meaning to 'indifferent':\", \"caring\", \"passionate\", \"neutral\", \"insensitive\", \"A\"],\n",
    "    [\"A flight path makes a triangle on a map. The two shortest sides of the triangle are 30 km and 40 km. What is the length of the longest side, if it's a right triangle?\", \"70 km\", \"50 km\", \"45 km\", \"60 km\", \"B\"],\n",
    "    [\"A plane is traveling south, and after taking a 135-degree turn to the left, it is traveling in which direction?\", \"North-East\", \"North-West\", \"South-East\", \"South-West\", \"B\"],\n",
    "    [\"Which of the following is not a West African country?\", \"Nigeria\", \"Ghana\", \"Chad\", \"Senegal\", \"C\"],\n",
    "    [\"What is the ICAO code for Ibom Air?\", \"IBX\", \"QIB\", \"AIB\", \"BAK\", \"C\"],\n",
    "    [\"Which word best completes the sentence: 'The customer made a ______ request for a refund.'\", 'kindly', 'polite', 'politely', 'kindness', 'B'],\n",
    "    [\"Two airplanes leave the same airport at the same time. One flies 400 miles north, and the other flies 300 miles east. How far apart are the two planes?\", '500 miles', '350 miles', '700 miles', '450 miles', 'A'],\n",
    "    [\"What is the primary hub airport for Ibom Air?\", 'Lagos Airport', 'Nnamdi Azikiwe International Airport', 'Margaret Ekpo International Airport', 'Akwa Ibom International Airport', 'D'],\n",
    "    [\"Select the correct sentence:\", 'The customers needs were well met by the support team.', 'The customer\\'s needs were well met by the support team.', 'The customers\\' need was well met by the support team.', 'The customer\\'s need were well met by the support team.', 'B'],\n",
    "    [\"If a shape is rotated 45 degrees clockwise, which direction will the top point face if it initially pointed west?\", 'North-West', 'North-East', 'South-East', 'South-West', 'B'],\n",
    "    [\"What is the correct form of the verb in the following sentence? 'If Ibom Air _______ more planes, it could offer more flights.' \", 'will have', 'would have', 'has', 'had', 'D'],\n",
    "    [\"Which Nigerian airline became the first to own a fleet of Bombardier CRJ900 aircraft?\", 'Air Peace', 'Arik Air', 'Ibom Air', 'Dana Air', 'C'],\n",
    "    [\"Fill in the blank: 'The customer was ______ satisfied with the service.' \", 'absolute', 'absoluteness', 'absolutely', 'absolution', 'C'],\n",
    "    [\"A shape is rotated 120 degrees counterclockwise. If its original orientation is north, what is its new orientation?\", 'East', 'South-West', 'North-East', 'South-East', 'D'],\n",
    "    [\"Identify the correct sentence:\", \n",
    "     '\"I didn’t had any complaints from the customers today.\"', \n",
    "     '\"I don’t have any complaints from the customers today.\"', \n",
    "     '\"I haven’t no complaints from the customers today.\"', \n",
    "     '\"I doesn’t have any complaints from the customers today.\"', \n",
    "     'B'],\n",
    "    [\"The African Continental Free Trade Agreement (AfCFTA) was initiated to:\", \n",
    "     '\"Promote regional security\"', \n",
    "     '\"Eliminate tariffs on intra-African trade\"', \n",
    "     '\"Foster cultural exchange programs\"', \n",
    "     '\"Build military alliances across Africa\"', \n",
    "     'B'],\n",
    "    # Additional questions can be added here...\n",
    "]\n",
    "\n",
    "# Define CSV file name\n",
    "csv_file_name = 'ibom_air_recruitment_questions.csv'\n",
    "\n",
    "# Write to CSV\n",
    "with open(csv_file_name, mode='w', newline='') as file:\n",
    "    writer = csv.writer(file)\n",
    "    \n",
    "    # Write header\n",
    "    writer.writerow([\"Question\",\"Option A\",\"Option B\",\"Option C\",\"Option D\",\"Correct Answer\"])\n",
    "    \n",
    "    # Write data\n",
    "    writer.writerows(data)\n",
    "\n",
    "print(f\"CSV file '{csv_file_name}' has been created successfully.\")"
   ]
  }
 ],
 "metadata": {
  "kernelspec": {
   "display_name": "Python 3",
   "language": "python",
   "name": "python3"
  },
  "language_info": {
   "codemirror_mode": {
    "name": "ipython",
    "version": 3
   },
   "file_extension": ".py",
   "mimetype": "text/x-python",
   "name": "python",
   "nbconvert_exporter": "python",
   "pygments_lexer": "ipython3",
   "version": "3.12.1"
  }
 },
 "nbformat": 4,
 "nbformat_minor": 2
}
